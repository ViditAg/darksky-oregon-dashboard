{
 "cells": [
  {
   "cell_type": "markdown",
   "id": "463ab4ac",
   "metadata": {},
   "source": [
    "# MVP validation workflow for the Oregon SQM Dashboard project.\n",
    "\n",
    "Steps:\n",
    "1. Load raw data tables and display basic info\n",
    "2. Perform geocoding for all sites & save results\n",
    "4. Visualize geocoded sites on a Folium map\n",
    "5. Show bar-charts and scatter-plots.\n",
    "6. Smoke-test Dash, Flask, and (lightweight) Streamlit app imports\n",
    "7. Summarize results"
   ]
  },
  {
   "cell_type": "markdown",
   "id": "d7895e14",
   "metadata": {},
   "source": [
    "## Load raw data tables and display basic info"
   ]
  },
  {
   "cell_type": "code",
   "execution_count": null,
   "id": "52190f0e",
   "metadata": {},
   "outputs": [],
   "source": [
    "# Import necessary libraries\n",
    "from pathlib import Path\n",
    "import json\n",
    "import pandas as pd\n",
    "import importlib\n",
    "import sys\n",
    "import logging"
   ]
  },
  {
   "cell_type": "code",
   "execution_count": null,
   "id": "9d166b9a",
   "metadata": {},
   "outputs": [
    {
     "name": "stdout",
     "output_type": "stream",
     "text": [
      "Project root: /home/vidit-agrawal/projects/darksky-oregon-dashboard\n",
      "Raw data dir: /home/vidit-agrawal/projects/darksky-oregon-dashboard/shared/data/raw\n",
      "Processed data dir: /home/vidit-agrawal/projects/darksky-oregon-dashboard/shared/data/processed\n",
      "Found raw file: sites_locations.csv\n",
      "Found raw file: clear_night_measurements.csv\n"
     ]
    }
   ],
   "source": [
    "# Ensure project root is on path (one level up from 'development')\n",
    "PROJECT_ROOT = Path.cwd().parent\n",
    "if str(PROJECT_ROOT) not in sys.path:\n",
    "    sys.path.insert(0, str(PROJECT_ROOT))\n",
    "\n",
    "# Also add the shared directory so that `utils` package can be resolved (matches streamlit_app logic)\n",
    "SHARED_DIR = PROJECT_ROOT / 'shared'\n",
    "if str(SHARED_DIR) not in sys.path:\n",
    "    sys.path.insert(0, str(SHARED_DIR))\n",
    "\n",
    "RAW_DIR = PROJECT_ROOT / 'shared' / 'data' / 'raw'\n",
    "PROCESSED_DIR = PROJECT_ROOT / 'shared' / 'data' / 'processed'\n",
    "PROCESSED_DIR.mkdir(parents=True, exist_ok=True)\n",
    "\n",
    "logging.basicConfig(level=logging.INFO)\n",
    "print(f\"Project root: {PROJECT_ROOT}\")\n",
    "print(f\"Shared dir added to sys.path: {SHARED_DIR}\")\n",
    "print(f\"Raw data dir: {RAW_DIR}\")\n",
    "print(f\"Processed data dir: {PROCESSED_DIR}\")\n",
    "\n",
    "# List raw CSVs\n",
    "for p in RAW_DIR.glob('*.csv'):\n",
    "    print('Found raw file:', p.name)\n",
    "\n",
    "# (Optional) quick confirmation that utils is importable\n",
    "try:\n",
    "    import utils  # noqa: F401\n",
    "    print('utils package import: OK')\n",
    "except Exception as e:\n",
    "    print('utils package import FAILED:', e)"
   ]
  },
  {
   "cell_type": "code",
   "execution_count": 18,
   "id": "27bc112a",
   "metadata": {},
   "outputs": [
    {
     "name": "stdout",
     "output_type": "stream",
     "text": [
      "Loaded sites_locations.csv: 63 rows, 2 cols\n"
     ]
    },
    {
     "data": {
      "text/html": [
       "<div>\n",
       "<style scoped>\n",
       "    .dataframe tbody tr th:only-of-type {\n",
       "        vertical-align: middle;\n",
       "    }\n",
       "\n",
       "    .dataframe tbody tr th {\n",
       "        vertical-align: top;\n",
       "    }\n",
       "\n",
       "    .dataframe thead th {\n",
       "        text-align: right;\n",
       "    }\n",
       "</style>\n",
       "<table border=\"1\" class=\"dataframe\">\n",
       "  <thead>\n",
       "    <tr style=\"text-align: right;\">\n",
       "      <th></th>\n",
       "      <th>Name</th>\n",
       "      <th>Install Number</th>\n",
       "    </tr>\n",
       "  </thead>\n",
       "  <tbody>\n",
       "    <tr>\n",
       "      <th>0</th>\n",
       "      <td>Awbrey Butte</td>\n",
       "      <td>1</td>\n",
       "    </tr>\n",
       "    <tr>\n",
       "      <th>1</th>\n",
       "      <td>Pine Mountain Observatory</td>\n",
       "      <td>2</td>\n",
       "    </tr>\n",
       "    <tr>\n",
       "      <th>2</th>\n",
       "      <td>Prineville Reservoir State Park</td>\n",
       "      <td>3</td>\n",
       "    </tr>\n",
       "  </tbody>\n",
       "</table>\n",
       "</div>"
      ],
      "text/plain": [
       "                              Name  Install Number\n",
       "0                     Awbrey Butte               1\n",
       "1        Pine Mountain Observatory               2\n",
       "2  Prineville Reservoir State Park               3"
      ]
     },
     "metadata": {},
     "output_type": "display_data"
    },
    {
     "name": "stdout",
     "output_type": "stream",
     "text": [
      "Loaded clear_night_measurements.csv: 58 rows, 5 cols\n"
     ]
    },
    {
     "data": {
      "text/html": [
       "<div>\n",
       "<style scoped>\n",
       "    .dataframe tbody tr th:only-of-type {\n",
       "        vertical-align: middle;\n",
       "    }\n",
       "\n",
       "    .dataframe tbody tr th {\n",
       "        vertical-align: top;\n",
       "    }\n",
       "\n",
       "    .dataframe thead th {\n",
       "        text-align: right;\n",
       "    }\n",
       "</style>\n",
       "<table border=\"1\" class=\"dataframe\">\n",
       "  <thead>\n",
       "    <tr style=\"text-align: right;\">\n",
       "      <th></th>\n",
       "      <th>site_name</th>\n",
       "      <th>median_brightness_mag_arcsec2</th>\n",
       "      <th>bortle_sky_level</th>\n",
       "      <th>median_linear_scale_flux_ratio</th>\n",
       "      <th>x_brighter_than_darkest_night_sky</th>\n",
       "    </tr>\n",
       "  </thead>\n",
       "  <tbody>\n",
       "    <tr>\n",
       "      <th>0</th>\n",
       "      <td>Eugene Downtown</td>\n",
       "      <td>18.27</td>\n",
       "      <td>7</td>\n",
       "      <td>12.36</td>\n",
       "      <td>26.79</td>\n",
       "    </tr>\n",
       "    <tr>\n",
       "      <th>1</th>\n",
       "      <td>Portland SE</td>\n",
       "      <td>18.45</td>\n",
       "      <td>7</td>\n",
       "      <td>10.47</td>\n",
       "      <td>22.70</td>\n",
       "    </tr>\n",
       "    <tr>\n",
       "      <th>2</th>\n",
       "      <td>Westmoreland Park</td>\n",
       "      <td>18.59</td>\n",
       "      <td>6</td>\n",
       "      <td>9.20</td>\n",
       "      <td>19.95</td>\n",
       "    </tr>\n",
       "  </tbody>\n",
       "</table>\n",
       "</div>"
      ],
      "text/plain": [
       "           site_name  median_brightness_mag_arcsec2  bortle_sky_level  \\\n",
       "0    Eugene Downtown                          18.27                 7   \n",
       "1        Portland SE                          18.45                 7   \n",
       "2  Westmoreland Park                          18.59                 6   \n",
       "\n",
       "   median_linear_scale_flux_ratio  x_brighter_than_darkest_night_sky  \n",
       "0                           12.36                              26.79  \n",
       "1                           10.47                              22.70  \n",
       "2                            9.20                              19.95  "
      ]
     },
     "metadata": {},
     "output_type": "display_data"
    },
    {
     "name": "stdout",
     "output_type": "stream",
     "text": [
      "\n",
      "Validation summary:\n",
      "sites_locations.csv => {'row_count': 63, 'missing_any': 0, 'duplicate_rows': 0, 'columns': ['Name', 'Install Number']}\n",
      "clear_night_measurements.csv => {'row_count': 58, 'missing_any': 0, 'duplicate_rows': 0, 'columns': ['site_name', 'median_brightness_mag_arcsec2', 'bortle_sky_level', 'median_linear_scale_flux_ratio', 'x_brighter_than_darkest_night_sky']}\n"
     ]
    }
   ],
   "source": [
    "# 1. Load raw data tables\n",
    "raw_files = ['sites_locations.csv','clear_night_measurements.csv']\n",
    "raw_dfs = {}\n",
    "for fname in raw_files:\n",
    "    fpath = RAW_DIR / fname\n",
    "    if fpath.exists():\n",
    "        df = pd.read_csv(fpath)\n",
    "        raw_dfs[fname] = df\n",
    "        print(f\"Loaded {fname}: {df.shape[0]} rows, {df.shape[1]} cols\")\n",
    "        display(df.head(3))\n",
    "    else:\n",
    "        print(f\"Missing raw file: {fname}\")\n",
    "\n",
    "# Basic schema/NA validation\n",
    "validation_report = {}\n",
    "for name, df in raw_dfs.items():\n",
    "    validation_report[name] = {\n",
    "        'row_count': len(df),\n",
    "        'missing_any': int(df.isna().any().any()),\n",
    "        'duplicate_rows': int(df.duplicated().sum()),\n",
    "        'columns': list(df.columns)\n",
    "    }\n",
    "\n",
    "print('\\nValidation summary:')\n",
    "for k,v in validation_report.items():\n",
    "    print(k, '=>', v)"
   ]
  },
  {
   "cell_type": "code",
   "execution_count": 19,
   "id": "2c60037e",
   "metadata": {},
   "outputs": [
    {
     "name": "stdout",
     "output_type": "stream",
     "text": [
      "<class 'pandas.core.frame.DataFrame'>\n",
      "RangeIndex: 63 entries, 0 to 62\n",
      "Data columns (total 2 columns):\n",
      " #   Column          Non-Null Count  Dtype \n",
      "---  ------          --------------  ----- \n",
      " 0   Name            63 non-null     object\n",
      " 1   Install Number  63 non-null     int64 \n",
      "dtypes: int64(1), object(1)\n",
      "memory usage: 1.1+ KB\n"
     ]
    }
   ],
   "source": [
    "raw_dfs['sites_locations.csv'].info()"
   ]
  },
  {
   "cell_type": "code",
   "execution_count": 21,
   "id": "f0ab904b",
   "metadata": {},
   "outputs": [
    {
     "name": "stdout",
     "output_type": "stream",
     "text": [
      "<class 'pandas.core.frame.DataFrame'>\n",
      "RangeIndex: 58 entries, 0 to 57\n",
      "Data columns (total 5 columns):\n",
      " #   Column                             Non-Null Count  Dtype  \n",
      "---  ------                             --------------  -----  \n",
      " 0   site_name                          58 non-null     object \n",
      " 1   median_brightness_mag_arcsec2      58 non-null     float64\n",
      " 2   bortle_sky_level                   58 non-null     int64  \n",
      " 3   median_linear_scale_flux_ratio     58 non-null     float64\n",
      " 4   x_brighter_than_darkest_night_sky  58 non-null     float64\n",
      "dtypes: float64(3), int64(1), object(1)\n",
      "memory usage: 2.4+ KB\n"
     ]
    }
   ],
   "source": [
    "raw_dfs['clear_night_measurements.csv'].info()"
   ]
  },
  {
   "cell_type": "markdown",
   "id": "f79aae03",
   "metadata": {},
   "source": [
    "## Perform geocoding for all sites & save results"
   ]
  },
  {
   "cell_type": "code",
   "execution_count": null,
   "id": "19c2cacf",
   "metadata": {},
   "outputs": [
    {
     "ename": "ModuleNotFoundError",
     "evalue": "No module named 'utils'",
     "output_type": "error",
     "traceback": [
      "\u001b[31m---------------------------------------------------------------------------\u001b[39m",
      "\u001b[31mModuleNotFoundError\u001b[39m                       Traceback (most recent call last)",
      "\u001b[36mCell\u001b[39m\u001b[36m \u001b[39m\u001b[32mIn[2]\u001b[39m\u001b[32m, line 1\u001b[39m\n\u001b[32m----> \u001b[39m\u001b[32m1\u001b[39m \u001b[38;5;28;01mfrom\u001b[39;00m\u001b[38;5;250m \u001b[39m\u001b[34;01mutils\u001b[39;00m\u001b[34;01m.\u001b[39;00m\u001b[34;01mgeocoding\u001b[39;00m\u001b[38;5;250m \u001b[39m\u001b[38;5;28;01mimport\u001b[39;00m OregonGeocoder\n",
      "\u001b[31mModuleNotFoundError\u001b[39m: No module named 'utils'"
     ]
    }
   ],
   "source": [
    "# Ensure path adjustments (in case this cell is run standalone)\n",
    "import sys\n",
    "from pathlib import Path\n",
    "PROJECT_ROOT = Path.cwd().parent\n",
    "SHARED_DIR = PROJECT_ROOT / 'shared'\n",
    "if str(PROJECT_ROOT) not in sys.path:\n",
    "    sys.path.insert(0, str(PROJECT_ROOT))\n",
    "if str(SHARED_DIR) not in sys.path:\n",
    "    sys.path.insert(0, str(SHARED_DIR))\n",
    "\n",
    "from utils.geocoding import OregonGeocoder\n",
    "\n",
    "# Instantiate geocoder and run a limited batch (you can expand later)\n",
    "geocoder = OregonGeocoder(cache_path=PROJECT_ROOT / 'shared' / 'data' / 'processed' / 'geocode_cache.json')\n",
    "site_names = raw_dfs['sites_locations.csv']['Name'].tolist() if 'sites_locations.csv' in raw_dfs else []\n",
    "print(f'Total site names to geocode: {len(site_names)} (showing first 5):', site_names[:5])\n",
    "\n",
    "# Example: limit to first 10 for quick run\n",
    "subset = site_names[:10]\n",
    "print('Geocoding subset of size:', len(subset))\n",
    "\n",
    "auto_confirm = True\n",
    "if auto_confirm:\n",
    "    geocode_results = geocoder.geocode_batch(subset, pause_seconds=1.0)\n",
    "else:\n",
    "    geocode_results = {name: geocoder.geocode_site(name) for name in subset}\n",
    "\n",
    "print('Geocoding complete. Successful coords:', sum(1 for v in geocode_results.values() if v))\n",
    "list(geocode_results.items())[:5]"
   ]
  },
  {
   "cell_type": "markdown",
   "id": "e4f6b6b7",
   "metadata": {},
   "source": [
    "## Visualize geocoded sites on a Folium map"
   ]
  },
  {
   "cell_type": "code",
   "execution_count": null,
   "id": "8d4499a5",
   "metadata": {},
   "outputs": [],
   "source": [
    "# 4. Map visualization (requires successful geocoding)\n",
    "import folium\n",
    "\n",
    "coords = {k:v for k,v in geocode_results.items() if v}\n",
    "if coords:\n",
    "    # Center roughly on Oregon\n",
    "    fmap = folium.Map(location=[43.9,-120.6], zoom_start=6, tiles='CartoDB positron')\n",
    "    for name,(lat,lon) in coords.items():\n",
    "        folium.Marker([lat,lon], popup=name).add_to(fmap)\n",
    "    display(fmap)\n",
    "else:\n",
    "    print('No coordinates to map yet.')"
   ]
  },
  {
   "cell_type": "code",
   "execution_count": null,
   "id": "e93c2a12",
   "metadata": {},
   "outputs": [],
   "source": []
  },
  {
   "cell_type": "code",
   "execution_count": null,
   "id": "9bb649b0",
   "metadata": {},
   "outputs": [],
   "source": [
    "# 5. Smoke-test app entry points (import only)\n",
    "results = {}\n",
    "modules_to_test = {\n",
    "    'dash_app.app': 'dash',\n",
    "    'flask_api.app': 'flask',\n",
    "    'streamlit_app.app': 'streamlit'\n",
    "}\n",
    "for mod, label in modules_to_test.items():\n",
    "    try:\n",
    "        importlib.import_module(mod)\n",
    "        results[mod] = 'import ok'\n",
    "    except Exception as e:\n",
    "        results[mod] = f'FAILED: {e}'\n",
    "results"
   ]
  },
  {
   "cell_type": "markdown",
   "id": "05714695",
   "metadata": {},
   "source": [
    "## 6. Summary\n",
    "This MVP notebook performed:\n",
    "- Data loading & quick validation for raw CSVs\n",
    "- Processing via `OregonSQMProcessor`\n",
    "- Sample geocoding & caching\n",
    "- Map visualization using Folium\n",
    "- Import smoke tests for Dash, Flask, Streamlit entry points\n",
    "\n",
    "Next potential steps:\n",
    "- Add pytest integration in a separate test module\n",
    "- Expand geocoding to all sites with rate limiting & progress\n",
    "- Compute derived KPIs (darkest sites, trend deltas)\n",
    "- Build interactive comparison plots\n"
   ]
  }
 ],
 "metadata": {
  "kernelspec": {
   "display_name": "venv_dashboard (3.12.7)",
   "language": "python",
   "name": "python3"
  },
  "language_info": {
   "codemirror_mode": {
    "name": "ipython",
    "version": 3
   },
   "file_extension": ".py",
   "mimetype": "text/x-python",
   "name": "python",
   "nbconvert_exporter": "python",
   "pygments_lexer": "ipython3",
   "version": "3.12.7"
  }
 },
 "nbformat": 4,
 "nbformat_minor": 5
}
