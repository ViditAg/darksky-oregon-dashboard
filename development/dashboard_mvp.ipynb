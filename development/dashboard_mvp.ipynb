{
 "cells": [
  {
   "cell_type": "markdown",
   "id": "463ab4ac",
   "metadata": {},
   "source": [
    "# MVP validation workflow for the Oregon SQM Dashboard project.\n",
    "\n",
    "Steps:\n",
    "1. Load raw data tables and display basic info\n",
    "2. Perform geocoding for all sites & save results\n",
    "4. Visualize geocoded sites on a Folium map\n",
    "5. Show bar-charts and scatter-plots.\n",
    "6. Smoke-test Dash, Flask, and (lightweight) Streamlit app imports\n",
    "7. Summarize results"
   ]
  },
  {
   "cell_type": "markdown",
   "id": "d7895e14",
   "metadata": {},
   "source": [
    "## Load raw data tables and display basic info"
   ]
  },
  {
   "cell_type": "code",
   "execution_count": null,
   "id": "52190f0e",
   "metadata": {},
   "outputs": [],
   "source": [
    "# Import necessary libraries\n",
    "from pathlib import Path\n",
    "import pandas as pd\n",
    "import sys"
   ]
  },
  {
   "cell_type": "code",
   "execution_count": null,
   "id": "9d166b9a",
   "metadata": {},
   "outputs": [],
   "source": [
    "# Ensure project root is on path (one level up from 'development')\n",
    "PROJECT_ROOT = Path.cwd().parent\n",
    "if str(PROJECT_ROOT) not in sys.path:\n",
    "    sys.path.insert(0, str(PROJECT_ROOT))\n",
    "\n",
    "# Also add the shared directory so that `utils` package can be resolved (matches streamlit_app logic)\n",
    "SHARED_DIR = PROJECT_ROOT / 'shared'\n",
    "print(f\"Project root: {PROJECT_ROOT}\")\n",
    "\n",
    "\n",
    "\n",
    "if str(SHARED_DIR) not in sys.path:\n",
    "    sys.path.insert(0, str(SHARED_DIR))\n",
    "print(f\"Shared dir added to sys.path: {SHARED_DIR}\")\n",
    "\n",
    "# check all data-tables in data-base\n",
    "RAW_DIR = PROJECT_ROOT / 'shared' / 'data' / 'raw'\n",
    "print(f\"Raw data dir: {RAW_DIR}\")\n",
    "\n",
    "# List raw CSVs\n",
    "for p in RAW_DIR.glob('*.csv'):\n",
    "    print('Found raw file:', p.name)"
   ]
  },
  {
   "cell_type": "code",
   "execution_count": null,
   "id": "2ad7261b",
   "metadata": {},
   "outputs": [],
   "source": [
    "from shared.utils.data_processing import OregonSQMProcessor"
   ]
  },
  {
   "cell_type": "code",
   "execution_count": null,
   "id": "27bc112a",
   "metadata": {},
   "outputs": [],
   "source": [
    "process_data = OregonSQMProcessor(\n",
    "    data_dir=PROJECT_ROOT / 'shared' / 'data'\n",
    ")\n",
    "raw_dfs = process_data.load_raw_data()"
   ]
  },
  {
   "cell_type": "code",
   "execution_count": null,
   "id": "17107f1e",
   "metadata": {},
   "outputs": [],
   "source": [
    "raw_dfs.keys()"
   ]
  },
  {
   "cell_type": "code",
   "execution_count": null,
   "id": "2c60037e",
   "metadata": {},
   "outputs": [],
   "source": [
    "for key in raw_dfs:\n",
    "    print(key)\n",
    "    display(raw_dfs[key].info())"
   ]
  },
  {
   "cell_type": "markdown",
   "id": "f79aae03",
   "metadata": {},
   "source": [
    "## Perform geocoding for all sites & save results"
   ]
  },
  {
   "cell_type": "code",
   "execution_count": null,
   "id": "e20b0751",
   "metadata": {},
   "outputs": [],
   "source": [
    "# # Geocode all sites using only Google Maps API\n",
    "# import requests\n",
    "# import pandas as pd\n",
    "\n",
    "# # API_KEY = '<redacted for privacy reasons>'  # <-- Replace with your Google Maps API key\n",
    "\n",
    "# def google_maps_geocode(address, api_key):\n",
    "#     url = f'https://maps.googleapis.com/maps/api/geocode/json?address={address}&key={api_key}'\n",
    "#     resp = requests.get(url)\n",
    "#     if resp.status_code == 200:\n",
    "#         results = resp.json().get('results', [])\n",
    "#         if results:\n",
    "#             loc = results[0]['geometry']['location']\n",
    "#             return loc['lat'], loc['lng']\n",
    "#     return None, None\n",
    "\n",
    "# site_names = raw_dfs['sites']['Name'].dropna().tolist()\n",
    "\n",
    "# results = []\n",
    "# for i, site_name in enumerate(site_names, 1):\n",
    "#     address = f\"{site_name}, Oregon, USA\"\n",
    "#     print(f\"[{i}/{len(site_names)}] Geocoding: {address}\")\n",
    "#     lat, lon = google_maps_geocode(address, API_KEY)\n",
    "#     results.append({\"site_name\": site_name, \"latitude\": lat, \"longitude\": lon})\n",
    "\n",
    "\n",
    "# geocode_df = pd.DataFrame(results)\n",
    "# geocode_df.to_csv(PROJECT_ROOT / 'shared/data/geospatial/sites_coordinates.csv', index=False)\n",
    "# geocode_df.head()"
   ]
  },
  {
   "cell_type": "code",
   "execution_count": null,
   "id": "eb29e3d3",
   "metadata": {},
   "outputs": [],
   "source": [
    "# geocode_df.to_csv(PROJECT_ROOT / 'shared/data/geospatial/sites_coordinates.csv', index=False)"
   ]
  },
  {
   "cell_type": "markdown",
   "id": "e4f6b6b7",
   "metadata": {},
   "source": [
    "## Visualize geocoded sites on a Folium map"
   ]
  },
  {
   "cell_type": "code",
   "execution_count": null,
   "id": "8993fe5a",
   "metadata": {},
   "outputs": [],
   "source": [
    "geocode_df = pd.read_csv(PROJECT_ROOT / 'shared/data/raw/sites_coordinates.csv')"
   ]
  },
  {
   "cell_type": "code",
   "execution_count": null,
   "id": "01d8013b",
   "metadata": {},
   "outputs": [],
   "source": [
    "# # 4. Map visualization (requires successful geocoding)\n",
    "# import folium\n",
    "\n",
    "# fmap = folium.Map(location=[43.9,-120.6], zoom_start=6, tiles='CartoDB positron')\n",
    "# for i, row in geocode_df.dropna(subset=['latitude', 'longitude']).iterrows():\n",
    "#     folium.Marker(\n",
    "#         location=[row['latitude'], row['longitude']],\n",
    "#         popup=row['site_name'],\n",
    "#         icon=folium.Icon(color='blue', icon='info-sign')\n",
    "#     ).add_to(fmap)\n",
    "\n",
    "#display(fmap)\n",
    "    "
   ]
  },
  {
   "cell_type": "markdown",
   "id": "e93c2a12",
   "metadata": {},
   "source": [
    "## Visualization"
   ]
  },
  {
   "cell_type": "code",
   "execution_count": null,
   "id": "9bb649b0",
   "metadata": {},
   "outputs": [],
   "source": [
    "# from shared.utils.visualizations import create_ranking_chart\n",
    "\n",
    "# create_ranking_chart(\n",
    "#     sites_df=raw_dfs['clear_measurements'],\n",
    "#     y_col='median_brightness_mag_arcsec2'\n",
    "# )"
   ]
  },
  {
   "cell_type": "code",
   "execution_count": null,
   "id": "306fc402",
   "metadata": {},
   "outputs": [],
   "source": [
    "from shared.utils.visualizations import create_interactive_2d_plot\n",
    "\n",
    "create_interactive_2d_plot(\n",
    "    df=raw_dfs['clear_measurements'],\n",
    "    x_col='median_brightness_mag_arcsec2',\n",
    "    y_col='median_linear_scale_flux_ratio',\n",
    "    hover_cols=['bortle_sky_level', 'x_brighter_than_darkest_night_sky'],\n",
    ")"
   ]
  }
 ],
 "metadata": {
  "kernelspec": {
   "display_name": "venv_dashboard (3.12.7)",
   "language": "python",
   "name": "python3"
  },
  "language_info": {
   "codemirror_mode": {
    "name": "ipython",
    "version": 3
   },
   "file_extension": ".py",
   "mimetype": "text/x-python",
   "name": "python",
   "nbconvert_exporter": "python",
   "pygments_lexer": "ipython3",
   "version": "3.12.7"
  }
 },
 "nbformat": 4,
 "nbformat_minor": 5
}
