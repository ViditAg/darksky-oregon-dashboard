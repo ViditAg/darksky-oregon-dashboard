{
 "cells": [
  {
   "cell_type": "markdown",
   "id": "463ab4ac",
   "metadata": {},
   "source": [
    "# MVP validation workflow for the Oregon SQM Dashboard project.\n",
    "\n",
    "Steps:\n",
    "1. Load raw data tables and display basic info\n",
    "2. Perform geocoding for all sites & save results\n",
    "4. Visualize geocoded sites on a Folium map\n",
    "5. Show bar-charts and scatter-plots.\n",
    "6. Smoke-test Dash, Flask, and (lightweight) Streamlit app imports\n",
    "7. Summarize results"
   ]
  },
  {
   "cell_type": "markdown",
   "id": "d7895e14",
   "metadata": {},
   "source": [
    "## Load raw data tables and display basic info"
   ]
  },
  {
   "cell_type": "code",
   "execution_count": 1,
   "id": "52190f0e",
   "metadata": {},
   "outputs": [],
   "source": [
    "# Import necessary libraries\n",
    "from pathlib import Path\n",
    "import json\n",
    "import pandas as pd\n",
    "import importlib\n",
    "import sys\n",
    "import logging"
   ]
  },
  {
   "cell_type": "code",
   "execution_count": 2,
   "id": "9d166b9a",
   "metadata": {},
   "outputs": [
    {
     "name": "stdout",
     "output_type": "stream",
     "text": [
      "Project root: /home/vidit-agrawal/projects/darksky-oregon-dashboard\n",
      "Shared dir added to sys.path: /home/vidit-agrawal/projects/darksky-oregon-dashboard/shared\n",
      "Raw data dir: /home/vidit-agrawal/projects/darksky-oregon-dashboard/shared/data/raw\n",
      "Processed data dir: /home/vidit-agrawal/projects/darksky-oregon-dashboard/shared/data/processed\n",
      "Found raw file: cloudy_night_measurements.csv\n",
      "Found raw file: sites_locations.csv\n",
      "Found raw file: cloud_coverage.csv\n",
      "Found raw file: clear_night_measurements.csv\n",
      "Found raw file: longterm_trends.csv\n",
      "Found raw file: milky_way_visibility.csv\n"
     ]
    }
   ],
   "source": [
    "# Ensure project root is on path (one level up from 'development')\n",
    "PROJECT_ROOT = Path.cwd().parent\n",
    "if str(PROJECT_ROOT) not in sys.path:\n",
    "    sys.path.insert(0, str(PROJECT_ROOT))\n",
    "\n",
    "# Also add the shared directory so that `utils` package can be resolved (matches streamlit_app logic)\n",
    "SHARED_DIR = PROJECT_ROOT / 'shared'\n",
    "if str(SHARED_DIR) not in sys.path:\n",
    "    sys.path.insert(0, str(SHARED_DIR))\n",
    "\n",
    "RAW_DIR = PROJECT_ROOT / 'shared' / 'data' / 'raw'\n",
    "PROCESSED_DIR = PROJECT_ROOT / 'shared' / 'data' / 'processed'\n",
    "PROCESSED_DIR.mkdir(parents=True, exist_ok=True)\n",
    "\n",
    "print(f\"Project root: {PROJECT_ROOT}\")\n",
    "print(f\"Shared dir added to sys.path: {SHARED_DIR}\")\n",
    "print(f\"Raw data dir: {RAW_DIR}\")\n",
    "print(f\"Processed data dir: {PROCESSED_DIR}\")\n",
    "\n",
    "# List raw CSVs\n",
    "for p in RAW_DIR.glob('*.csv'):\n",
    "    print('Found raw file:', p.name)"
   ]
  },
  {
   "cell_type": "code",
   "execution_count": 3,
   "id": "2ad7261b",
   "metadata": {},
   "outputs": [],
   "source": [
    "from utils.data_processing import OregonSQMProcessor"
   ]
  },
  {
   "cell_type": "code",
   "execution_count": 4,
   "id": "27bc112a",
   "metadata": {},
   "outputs": [
    {
     "name": "stderr",
     "output_type": "stream",
     "text": [
      "INFO:utils.data_processing:Initializing OregonSQMProcessor with data directory: /home/vidit-agrawal/projects/darksky-oregon-dashboard/shared/data\n",
      "INFO:utils.data_processing:Loaded sites: 63 records\n",
      "INFO:utils.data_processing:Loaded clear_measurements: 58 records\n",
      "INFO:utils.data_processing:Loaded cloudy_measurements: 60 records\n",
      "INFO:utils.data_processing:Loaded trends: 32 records\n",
      "INFO:utils.data_processing:Loaded milky_way: 57 records\n",
      "INFO:utils.data_processing:Loaded cloud_coverage: 60 records\n",
      "INFO:utils.data_processing:Loaded sites: 63 records\n",
      "INFO:utils.data_processing:Loaded clear_measurements: 58 records\n",
      "INFO:utils.data_processing:Loaded cloudy_measurements: 60 records\n",
      "INFO:utils.data_processing:Loaded trends: 32 records\n",
      "INFO:utils.data_processing:Loaded milky_way: 57 records\n",
      "INFO:utils.data_processing:Loaded cloud_coverage: 60 records\n"
     ]
    }
   ],
   "source": [
    "process_data = OregonSQMProcessor(\n",
    "    data_dir=PROJECT_ROOT / 'shared' / 'data'\n",
    ")\n",
    "raw_dfs = process_data.load_raw_data()"
   ]
  },
  {
   "cell_type": "code",
   "execution_count": 5,
   "id": "17107f1e",
   "metadata": {},
   "outputs": [
    {
     "data": {
      "text/plain": [
       "dict_keys(['sites', 'clear_measurements', 'cloudy_measurements', 'trends', 'milky_way', 'cloud_coverage'])"
      ]
     },
     "execution_count": 5,
     "metadata": {},
     "output_type": "execute_result"
    }
   ],
   "source": [
    "raw_dfs.keys()"
   ]
  },
  {
   "cell_type": "code",
   "execution_count": 9,
   "id": "2c60037e",
   "metadata": {},
   "outputs": [
    {
     "name": "stdout",
     "output_type": "stream",
     "text": [
      "sites\n",
      "<class 'pandas.core.frame.DataFrame'>\n",
      "RangeIndex: 63 entries, 0 to 62\n",
      "Data columns (total 2 columns):\n",
      " #   Column          Non-Null Count  Dtype \n",
      "---  ------          --------------  ----- \n",
      " 0   Name            63 non-null     object\n",
      " 1   Install Number  63 non-null     int64 \n",
      "dtypes: int64(1), object(1)\n",
      "memory usage: 1.1+ KB\n"
     ]
    },
    {
     "data": {
      "text/plain": [
       "None"
      ]
     },
     "metadata": {},
     "output_type": "display_data"
    },
    {
     "name": "stdout",
     "output_type": "stream",
     "text": [
      "clear_measurements\n",
      "<class 'pandas.core.frame.DataFrame'>\n",
      "RangeIndex: 58 entries, 0 to 57\n",
      "Data columns (total 5 columns):\n",
      " #   Column                             Non-Null Count  Dtype  \n",
      "---  ------                             --------------  -----  \n",
      " 0   site_name                          58 non-null     object \n",
      " 1   median_brightness_mag_arcsec2      58 non-null     float64\n",
      " 2   bortle_sky_level                   58 non-null     int64  \n",
      " 3   median_linear_scale_flux_ratio     58 non-null     float64\n",
      " 4   x_brighter_than_darkest_night_sky  58 non-null     float64\n",
      "dtypes: float64(3), int64(1), object(1)\n",
      "memory usage: 2.4+ KB\n"
     ]
    },
    {
     "data": {
      "text/plain": [
       "None"
      ]
     },
     "metadata": {},
     "output_type": "display_data"
    },
    {
     "name": "stdout",
     "output_type": "stream",
     "text": [
      "cloudy_measurements\n",
      "<class 'pandas.core.frame.DataFrame'>\n",
      "RangeIndex: 60 entries, 0 to 59\n",
      "Data columns (total 4 columns):\n",
      " #   Column                             Non-Null Count  Dtype  \n",
      "---  ------                             --------------  -----  \n",
      " 0   site_name                          60 non-null     object \n",
      " 1   median_brightness_mag_arcsec2      60 non-null     float64\n",
      " 2   median_linear_scale_flux_ratio     60 non-null     float64\n",
      " 3   x_brighter_than_darkest_night_sky  60 non-null     float64\n",
      "dtypes: float64(3), object(1)\n",
      "memory usage: 2.0+ KB\n"
     ]
    },
    {
     "data": {
      "text/plain": [
       "None"
      ]
     },
     "metadata": {},
     "output_type": "display_data"
    },
    {
     "name": "stdout",
     "output_type": "stream",
     "text": [
      "trends\n",
      "<class 'pandas.core.frame.DataFrame'>\n",
      "RangeIndex: 32 entries, 0 to 31\n",
      "Data columns (total 5 columns):\n",
      " #   Column                                             Non-Null Count  Dtype  \n",
      "---  ------                                             --------------  -----  \n",
      " 0   site_name                                          32 non-null     object \n",
      " 1   Number_of_Years_of_Data                            32 non-null     int64  \n",
      " 2   Percent_Change_per_year                            32 non-null     float64\n",
      " 3   Regression_Line_Slope_x_10000                      32 non-null     float64\n",
      " 4   Rate_of_Change_vs_Prineville_Reservoir_State_Park  32 non-null     float64\n",
      "dtypes: float64(3), int64(1), object(1)\n",
      "memory usage: 1.4+ KB\n"
     ]
    },
    {
     "data": {
      "text/plain": [
       "None"
      ]
     },
     "metadata": {},
     "output_type": "display_data"
    },
    {
     "name": "stdout",
     "output_type": "stream",
     "text": [
      "milky_way\n",
      "<class 'pandas.core.frame.DataFrame'>\n",
      "RangeIndex: 57 entries, 0 to 56\n",
      "Data columns (total 3 columns):\n",
      " #   Column                        Non-Null Count  Dtype  \n",
      "---  ------                        --------------  -----  \n",
      " 0   site_name                     57 non-null     object \n",
      " 1   difference_index_mag_arcsec2  57 non-null     float64\n",
      " 2   ratio_index                   57 non-null     float64\n",
      "dtypes: float64(2), object(1)\n",
      "memory usage: 1.5+ KB\n"
     ]
    },
    {
     "data": {
      "text/plain": [
       "None"
      ]
     },
     "metadata": {},
     "output_type": "display_data"
    },
    {
     "name": "stdout",
     "output_type": "stream",
     "text": [
      "cloud_coverage\n",
      "<class 'pandas.core.frame.DataFrame'>\n",
      "RangeIndex: 60 entries, 0 to 59\n",
      "Data columns (total 2 columns):\n",
      " #   Column                                  Non-Null Count  Dtype  \n",
      "---  ------                                  --------------  -----  \n",
      " 0   site_name                               60 non-null     object \n",
      " 1   percent_clear_night_samples_all_months  60 non-null     float64\n",
      "dtypes: float64(1), object(1)\n",
      "memory usage: 1.1+ KB\n"
     ]
    },
    {
     "data": {
      "text/plain": [
       "None"
      ]
     },
     "metadata": {},
     "output_type": "display_data"
    }
   ],
   "source": [
    "for key in raw_dfs:\n",
    "    print(key)\n",
    "    display(raw_dfs[key].info())"
   ]
  },
  {
   "cell_type": "markdown",
   "id": "d7e400f8",
   "metadata": {},
   "source": [
    "## Visualize metrics"
   ]
  },
  {
   "cell_type": "code",
   "execution_count": null,
   "id": "351e279a",
   "metadata": {},
   "outputs": [],
   "source": []
  },
  {
   "cell_type": "markdown",
   "id": "f79aae03",
   "metadata": {},
   "source": [
    "## Perform geocoding for all sites & save results"
   ]
  },
  {
   "cell_type": "code",
   "execution_count": null,
   "id": "19c2cacf",
   "metadata": {},
   "outputs": [],
   "source": []
  },
  {
   "cell_type": "markdown",
   "id": "e4f6b6b7",
   "metadata": {},
   "source": [
    "## Visualize geocoded sites on a Folium map"
   ]
  },
  {
   "cell_type": "code",
   "execution_count": null,
   "id": "8d4499a5",
   "metadata": {},
   "outputs": [],
   "source": [
    "# 4. Map visualization (requires successful geocoding)\n",
    "import folium\n",
    "\n",
    "coords = {k:v for k,v in geocode_results.items() if v}\n",
    "if coords:\n",
    "    # Center roughly on Oregon\n",
    "    fmap = folium.Map(location=[43.9,-120.6], zoom_start=6, tiles='CartoDB positron')\n",
    "    for name,(lat,lon) in coords.items():\n",
    "        folium.Marker([lat,lon], popup=name).add_to(fmap)\n",
    "    display(fmap)\n",
    "else:\n",
    "    print('No coordinates to map yet.')"
   ]
  },
  {
   "cell_type": "code",
   "execution_count": null,
   "id": "e93c2a12",
   "metadata": {},
   "outputs": [],
   "source": []
  },
  {
   "cell_type": "code",
   "execution_count": null,
   "id": "9bb649b0",
   "metadata": {},
   "outputs": [],
   "source": []
  }
 ],
 "metadata": {
  "kernelspec": {
   "display_name": "venv_dashboard (3.12.7)",
   "language": "python",
   "name": "python3"
  },
  "language_info": {
   "codemirror_mode": {
    "name": "ipython",
    "version": 3
   },
   "file_extension": ".py",
   "mimetype": "text/x-python",
   "name": "python",
   "nbconvert_exporter": "python",
   "pygments_lexer": "ipython3",
   "version": "3.12.7"
  }
 },
 "nbformat": 4,
 "nbformat_minor": 5
}
