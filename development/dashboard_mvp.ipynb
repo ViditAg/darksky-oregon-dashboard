{
 "cells": [
  {
   "cell_type": "markdown",
   "id": "463ab4ac",
   "metadata": {},
   "source": [
    "# MVP validation workflow for the Oregon SQM Dashboard project.\n",
    "\n",
    "Steps:\n",
    "1. Load raw data tables and display basic info\n",
    "2. Perform geocoding for all sites & save results\n",
    "4. Visualize geocoded sites on a Folium map\n",
    "5. Show bar-charts and scatter-plots.\n",
    "6. Smoke-test Dash, Flask, and (lightweight) Streamlit app imports\n",
    "7. Summarize results"
   ]
  },
  {
   "cell_type": "markdown",
   "id": "d7895e14",
   "metadata": {},
   "source": [
    "## Load raw data tables and display basic info"
   ]
  },
  {
   "cell_type": "code",
   "execution_count": 1,
   "id": "52190f0e",
   "metadata": {},
   "outputs": [],
   "source": [
    "# Import necessary libraries\n",
    "from pathlib import Path\n",
    "import json\n",
    "import pandas as pd\n",
    "import importlib\n",
    "import sys\n",
    "import logging"
   ]
  },
  {
   "cell_type": "code",
   "execution_count": null,
   "id": "9d166b9a",
   "metadata": {},
   "outputs": [
    {
     "name": "stdout",
     "output_type": "stream",
     "text": [
      "Project root: /home/vidit-agrawal/projects/darksky-oregon-dashboard\n",
      "Shared dir added to sys.path: /home/vidit-agrawal/projects/darksky-oregon-dashboard/shared\n",
      "Raw data dir: /home/vidit-agrawal/projects/darksky-oregon-dashboard/shared/data/raw\n",
      "Processed data dir: /home/vidit-agrawal/projects/darksky-oregon-dashboard/shared/data/processed\n",
      "Found raw file: cloudy_night_measurements.csv\n",
      "Found raw file: sites_locations.csv\n",
      "Found raw file: cloud_coverage.csv\n",
      "Found raw file: clear_night_measurements.csv\n",
      "Found raw file: longterm_trends.csv\n",
      "Found raw file: milky_way_visibility.csv\n",
      "utils package import: OK\n"
     ]
    }
   ],
   "source": [
    "# Ensure project root is on path (one level up from 'development')\n",
    "PROJECT_ROOT = Path.cwd().parent\n",
    "if str(PROJECT_ROOT) not in sys.path:\n",
    "    sys.path.insert(0, str(PROJECT_ROOT))\n",
    "\n",
    "# Also add the shared directory so that `utils` package can be resolved (matches streamlit_app logic)\n",
    "SHARED_DIR = PROJECT_ROOT / 'shared'\n",
    "if str(SHARED_DIR) not in sys.path:\n",
    "    sys.path.insert(0, str(SHARED_DIR))\n",
    "\n",
    "RAW_DIR = PROJECT_ROOT / 'shared' / 'data' / 'raw'\n",
    "PROCESSED_DIR = PROJECT_ROOT / 'shared' / 'data' / 'processed'\n",
    "PROCESSED_DIR.mkdir(parents=True, exist_ok=True)\n",
    "\n",
    "print(f\"Project root: {PROJECT_ROOT}\")\n",
    "print(f\"Shared dir added to sys.path: {SHARED_DIR}\")\n",
    "print(f\"Raw data dir: {RAW_DIR}\")\n",
    "print(f\"Processed data dir: {PROCESSED_DIR}\")\n",
    "\n",
    "# List raw CSVs\n",
    "for p in RAW_DIR.glob('*.csv'):\n",
    "    print('Found raw file:', p.name)"
   ]
  },
  {
   "cell_type": "code",
   "execution_count": 3,
   "id": "2ad7261b",
   "metadata": {},
   "outputs": [],
   "source": [
    "from utils.data_processing import OregonSQMProcessor"
   ]
  },
  {
   "cell_type": "code",
   "execution_count": 4,
   "id": "27bc112a",
   "metadata": {},
   "outputs": [
    {
     "name": "stderr",
     "output_type": "stream",
     "text": [
      "INFO:utils.data_processing:Initializing OregonSQMProcessor with data directory: /home/vidit-agrawal/projects/darksky-oregon-dashboard/shared/data\n",
      "INFO:utils.data_processing:Loaded sites: 63 records\n",
      "INFO:utils.data_processing:Loaded clear_measurements: 58 records\n",
      "INFO:utils.data_processing:Loaded cloudy_measurements: 60 records\n",
      "INFO:utils.data_processing:Loaded trends: 32 records\n",
      "INFO:utils.data_processing:Loaded milky_way: 57 records\n",
      "INFO:utils.data_processing:Loaded cloud_coverage: 60 records\n",
      "INFO:utils.data_processing:Loaded sites: 63 records\n",
      "INFO:utils.data_processing:Loaded clear_measurements: 58 records\n",
      "INFO:utils.data_processing:Loaded cloudy_measurements: 60 records\n",
      "INFO:utils.data_processing:Loaded trends: 32 records\n",
      "INFO:utils.data_processing:Loaded milky_way: 57 records\n",
      "INFO:utils.data_processing:Loaded cloud_coverage: 60 records\n"
     ]
    }
   ],
   "source": [
    "process_data = OregonSQMProcessor(\n",
    "    data_dir=PROJECT_ROOT / 'shared' / 'data'\n",
    ")\n",
    "raw_dfs = process_data.load_raw_data()"
   ]
  },
  {
   "cell_type": "code",
   "execution_count": 5,
   "id": "17107f1e",
   "metadata": {},
   "outputs": [
    {
     "data": {
      "text/plain": [
       "dict_keys(['sites', 'clear_measurements', 'cloudy_measurements', 'trends', 'milky_way', 'cloud_coverage'])"
      ]
     },
     "execution_count": 5,
     "metadata": {},
     "output_type": "execute_result"
    }
   ],
   "source": [
    "raw_dfs.keys()"
   ]
  },
  {
   "cell_type": "code",
   "execution_count": 6,
   "id": "2c60037e",
   "metadata": {},
   "outputs": [
    {
     "name": "stdout",
     "output_type": "stream",
     "text": [
      "<class 'pandas.core.frame.DataFrame'>\n",
      "RangeIndex: 63 entries, 0 to 62\n",
      "Data columns (total 2 columns):\n",
      " #   Column          Non-Null Count  Dtype \n",
      "---  ------          --------------  ----- \n",
      " 0   Name            63 non-null     object\n",
      " 1   Install Number  63 non-null     int64 \n",
      "dtypes: int64(1), object(1)\n",
      "memory usage: 1.1+ KB\n"
     ]
    }
   ],
   "source": [
    "raw_dfs['sites'].info()"
   ]
  },
  {
   "cell_type": "code",
   "execution_count": 7,
   "id": "5181738c",
   "metadata": {},
   "outputs": [
    {
     "ename": "SyntaxError",
     "evalue": "invalid syntax (3659366440.py, line 1)",
     "output_type": "error",
     "traceback": [
      "  \u001b[36mCell\u001b[39m\u001b[36m \u001b[39m\u001b[32mIn[7]\u001b[39m\u001b[32m, line 1\u001b[39m\n\u001b[31m    \u001b[39m\u001b[31m--\u001b[39m\n      ^\n\u001b[31mSyntaxError\u001b[39m\u001b[31m:\u001b[39m invalid syntax\n"
     ]
    }
   ],
   "source": [
    "--"
   ]
  },
  {
   "cell_type": "markdown",
   "id": "f79aae03",
   "metadata": {},
   "source": [
    "## Perform geocoding for all sites & save results"
   ]
  },
  {
   "cell_type": "code",
   "execution_count": null,
   "id": "19c2cacf",
   "metadata": {},
   "outputs": [],
   "source": []
  },
  {
   "cell_type": "markdown",
   "id": "e4f6b6b7",
   "metadata": {},
   "source": [
    "## Visualize geocoded sites on a Folium map"
   ]
  },
  {
   "cell_type": "code",
   "execution_count": null,
   "id": "8d4499a5",
   "metadata": {},
   "outputs": [],
   "source": [
    "# 4. Map visualization (requires successful geocoding)\n",
    "import folium\n",
    "\n",
    "coords = {k:v for k,v in geocode_results.items() if v}\n",
    "if coords:\n",
    "    # Center roughly on Oregon\n",
    "    fmap = folium.Map(location=[43.9,-120.6], zoom_start=6, tiles='CartoDB positron')\n",
    "    for name,(lat,lon) in coords.items():\n",
    "        folium.Marker([lat,lon], popup=name).add_to(fmap)\n",
    "    display(fmap)\n",
    "else:\n",
    "    print('No coordinates to map yet.')"
   ]
  },
  {
   "cell_type": "code",
   "execution_count": null,
   "id": "e93c2a12",
   "metadata": {},
   "outputs": [],
   "source": []
  },
  {
   "cell_type": "code",
   "execution_count": null,
   "id": "9bb649b0",
   "metadata": {},
   "outputs": [],
   "source": []
  }
 ],
 "metadata": {
  "kernelspec": {
   "display_name": "venv_dashboard (3.12.7)",
   "language": "python",
   "name": "python3"
  },
  "language_info": {
   "codemirror_mode": {
    "name": "ipython",
    "version": 3
   },
   "file_extension": ".py",
   "mimetype": "text/x-python",
   "name": "python",
   "nbconvert_exporter": "python",
   "pygments_lexer": "ipython3",
   "version": "3.12.7"
  }
 },
 "nbformat": 4,
 "nbformat_minor": 5
}
